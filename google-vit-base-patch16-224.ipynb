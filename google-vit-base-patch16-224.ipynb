{
 "cells": [
  {
   "cell_type": "code",
   "execution_count": 1,
   "metadata": {},
   "outputs": [
    {
     "name": "stderr",
     "output_type": "stream",
     "text": [
      "/home/wfd/miniconda3/envs/PYTORCH/lib/python3.10/site-packages/tqdm/auto.py:21: TqdmWarning: IProgress not found. Please update jupyter and ipywidgets. See https://ipywidgets.readthedocs.io/en/stable/user_install.html\n",
      "  from .autonotebook import tqdm as notebook_tqdm\n"
     ]
    }
   ],
   "source": [
    "from transformers import AutoImageProcessor, ResNetForImageClassification\n",
    "from transformers import ViTImageProcessor, ViTForImageClassification\n",
    "from torchvision import datasets, transforms\n",
    "from torch.utils.data import DataLoader\n",
    "import torch\n",
    "from torch import nn, optim"
   ]
  },
  {
   "cell_type": "code",
   "execution_count": 2,
   "metadata": {},
   "outputs": [
    {
     "name": "stderr",
     "output_type": "stream",
     "text": [
      "/home/wfd/miniconda3/envs/PYTORCH/lib/python3.10/site-packages/torch/cuda/memory.py:271: FutureWarning: torch.cuda.reset_max_memory_allocated now calls torch.cuda.reset_peak_memory_stats, which resets /all/ peak memory stats.\n",
      "  warnings.warn(\n"
     ]
    }
   ],
   "source": [
    "torch.cuda.empty_cache() # Clear cache\n",
    "torch.cuda.reset_max_memory_allocated()  # Reset the max memory allocated counter\n",
    "torch.cuda.reset_accumulated_memory_stats()  # Reset the accumulated memory stats"
   ]
  },
  {
   "cell_type": "code",
   "execution_count": 3,
   "metadata": {},
   "outputs": [],
   "source": [
    "def config_vit_base():\n",
    "    global transform, processor, model, model_name\n",
    "\n",
    "    # Define the transformations\n",
    "    transform = transforms.Compose([\n",
    "        transforms.Resize((224, 224)),\n",
    "        transforms.ToTensor(),\n",
    "        transforms.Normalize(mean=[0.485, 0.456, 0.406], std=[0.229, 0.224, 0.225]),\n",
    "    ])\n",
    "\n",
    "    # Initialize the processor and model\n",
    "    processor = ViTImageProcessor.from_pretrained('google/vit-base-patch16-224')\n",
    "    model = ViTForImageClassification.from_pretrained('google/vit-base-patch16-224')\n",
    "\n",
    "    num_ftrs = model.classifier.in_features  # Get the number of in_features from the current layer\n",
    "\n",
    "    model_name = \"google-vit-base-patch16-224\"\n",
    "\n",
    "    model.classifier = nn.Linear(num_ftrs, 2)  # Replace with a new Linear layer with 2 outputs"
   ]
  },
  {
   "cell_type": "code",
   "execution_count": 4,
   "metadata": {},
   "outputs": [
    {
     "name": "stdout",
     "output_type": "stream",
     "text": [
      "Linear(in_features=768, out_features=2, bias=True)\n"
     ]
    }
   ],
   "source": [
    "# Configure the model\n",
    "config_vit_base()\n",
    "\n",
    "# Check what layers are trainable\n",
    "# for name, param in model.named_parameters():\n",
    "#     print(name, param.requires_grad)\n",
    "\n",
    "print(model.classifier)\n",
    "\n",
    "# Specify the number of epochs\n",
    "num_epochs = 30\n",
    "batch_size = 30\n",
    "learning_rate = 0.0001\n",
    "dataset_path = \"./DataClassification/Split_dataset/\""
   ]
  },
  {
   "cell_type": "code",
   "execution_count": 5,
   "metadata": {},
   "outputs": [
    {
     "name": "stdout",
     "output_type": "stream",
     "text": [
      "Train batches: 45, Validation batches: 12, Test batches: 22\n"
     ]
    }
   ],
   "source": [
    "train_dataset = datasets.ImageFolder(root=dataset_path + 'Train', transform=transform)\n",
    "val_dataset = datasets.ImageFolder(root=dataset_path + 'Valid', transform=transform)\n",
    "test_dataset = datasets.ImageFolder(root=dataset_path + 'Test', transform=transform)\n",
    "\n",
    "# Data loaders\n",
    "train_loader = DataLoader(train_dataset, batch_size=batch_size, shuffle=True)\n",
    "val_loader = DataLoader(val_dataset, batch_size=batch_size, shuffle=False)\n",
    "test_loader = DataLoader(test_dataset, batch_size=batch_size, shuffle=False)\n",
    "print(f\"Train batches: {len(train_loader)}, Validation batches: {len(val_loader)}, Test batches: {len(test_loader)}\")"
   ]
  },
  {
   "cell_type": "code",
   "execution_count": 6,
   "metadata": {},
   "outputs": [],
   "source": [
    "def get_device():\n",
    "    return torch.device(\"cuda\" if torch.cuda.is_available() else \"cpu\")"
   ]
  },
  {
   "cell_type": "code",
   "execution_count": 7,
   "metadata": {},
   "outputs": [
    {
     "name": "stdout",
     "output_type": "stream",
     "text": [
      "Using device: cuda\n"
     ]
    }
   ],
   "source": [
    "# Loss function and optimizer\n",
    "loss_function = nn.CrossEntropyLoss()\n",
    "optimizer = optim.Adam(model.parameters(), lr=learning_rate)\n",
    "\n",
    "# Check for GPU availability\n",
    "device = get_device()\n",
    "print(f\"Using device: {device}\")\n",
    "\n",
    "# Transfer the model to GPU\n",
    "model = model.to(device)"
   ]
  },
  {
   "cell_type": "code",
   "execution_count": null,
   "metadata": {},
   "outputs": [],
   "source": [
    "\n",
    "# Training and validation loop\n",
    "for epoch in range(num_epochs):\n",
    "    # Training\n",
    "    model.train()\n",
    "    total_loss = 0\n",
    "    train_total = 0\n",
    "    train_correct = 0\n",
    "\n",
    "    for batch_idx, (images, labels) in enumerate(train_loader):\n",
    "        # Transfer images and labels to GPU\n",
    "        images, labels = images.to(device), labels.to(device)\n",
    "\n",
    "        # Forward pass\n",
    "        outputs = model(images).logits\n",
    "\n",
    "        # Compute loss\n",
    "        loss = loss_function(outputs, labels)\n",
    "        total_loss += loss.item()\n",
    "\n",
    "        # Compute accuracy\n",
    "        _, predicted = torch.max(outputs.data, 1)\n",
    "        train_total += labels.size(0)\n",
    "        train_correct += (predicted == labels).sum().item()\n",
    "\n",
    "        # Backward pass and optimization\n",
    "        optimizer.zero_grad()\n",
    "        loss.backward()\n",
    "        optimizer.step()\n",
    "\n",
    "        if (batch_idx+1) % 10 == 0:\n",
    "            pass\n",
    "            # print(f'Epoch: {epoch+1}, Batch: {batch_idx+1}, Loss: {loss.item()}')\n",
    "\n",
    "    # Validation\n",
    "    model.eval()\n",
    "    val_total_loss = 0\n",
    "    val_total = 0\n",
    "    val_correct = 0\n",
    "\n",
    "    with torch.no_grad():\n",
    "        for images, labels in val_loader:\n",
    "            # Transfer images and labels to GPU\n",
    "            images, labels = images.to(device), labels.to(device)\n",
    "\n",
    "            # Forward pass\n",
    "            outputs = model(images).logits\n",
    "\n",
    "            # Compute loss\n",
    "            val_loss = loss_function(outputs, labels)\n",
    "            val_total_loss += val_loss.item()\n",
    "\n",
    "            # Compute accuracy\n",
    "            _, predicted = torch.max(outputs.data, 1)\n",
    "            val_total += labels.size(0)\n",
    "            val_correct += (predicted == labels).sum().item()\n",
    "\n",
    "    # Calculate average loss and accuracy for the epoch\n",
    "    avg_loss = total_loss / len(train_loader)\n",
    "    train_accuracy = 100 * train_correct / train_total\n",
    "\n",
    "    # Calculate average validation loss and accuracy\n",
    "    avg_val_loss = val_total_loss / len(val_loader)\n",
    "    val_accuracy = 100 * val_correct / val_total\n",
    "\n",
    "    print(f'Epoch {epoch+1}, \\tAverage Training Loss: \\t{avg_loss}, \\tTraining Accuracy: \\t{train_accuracy}%')\n",
    "    print(f'Epoch {epoch+1}, \\tAverage Validation Loss: \\t{avg_val_loss}, \\tValidation Accuracy: \\t{val_accuracy}%')"
   ]
  },
  {
   "cell_type": "code",
   "execution_count": null,
   "metadata": {},
   "outputs": [],
   "source": [
    "# Testing loop\n",
    "model.eval()  # Set the model to evaluation mode\n",
    "test_total = 0\n",
    "test_correct = 0\n",
    "\n",
    "with torch.no_grad():  # No gradients needed for testing, saves memory and computations\n",
    "    for images, labels in test_loader:\n",
    "        # Transfer images and labels to GPU (if using)\n",
    "        images, labels = images.to(device), labels.to(device)\n",
    "\n",
    "        # Forward pass\n",
    "        outputs = model(images).logits\n",
    "\n",
    "        # Compute accuracy\n",
    "        _, predicted = torch.max(outputs.data, 1)\n",
    "        test_total += labels.size(0)    \n",
    "        test_correct += (predicted == labels).sum().item()\n",
    "\n",
    "# Print test accuracy\n",
    "test_accuracy = 100 * test_correct / test_total\n",
    "print(f'Test Accuracy: {test_accuracy}%')   "
   ]
  },
  {
   "cell_type": "code",
   "execution_count": null,
   "metadata": {},
   "outputs": [],
   "source": [
    "# Save the model\n",
    "torch.save(model.state_dict(), f'./Models/{model_name}.pth')\n",
    "\n",
    "# Print the max memory allocated\n",
    "print(torch.cuda.max_memory_allocated() / 1024 ** 2, 'MB')"
   ]
  },
  {
   "cell_type": "code",
   "execution_count": null,
   "metadata": {},
   "outputs": [],
   "source": [
    "# Let's predict on a whole folder of images\n",
    "import os\n",
    "from PIL import Image\n",
    "import numpy as np\n",
    "\n",
    "device = get_device()\n",
    "\n",
    "#! We reconfigure the model so that this cell can be run independently\n",
    "config_vit_base()\n",
    "\n",
    "# Load model from saved file to make sure we are using the model we just trained\n",
    "#? Could be skipped but added for clarity\n",
    "model.load_state_dict(torch.load(f'{model_name}.pth'))\n",
    "model.eval()\n",
    "model.to(device)\n",
    "\n",
    "# Get the list of images\n",
    "dir_list = os.listdir('./Classify')\n",
    "\n",
    "sclerosed = []\n",
    "images = []\n",
    "\n",
    "# Get the list of images by dir\n",
    "for dir in dir_list:\n",
    "    image_list = os.listdir(f'./Classify/{dir}')\n",
    "\n",
    "    i = 0\n",
    "    # Loop through the images\n",
    "    for image in image_list:\n",
    "        images.append(image)\n",
    "\n",
    "        # Load the image\n",
    "        img = Image.open(f'./Classify/{dir}/{image}')\n",
    "\n",
    "        # Transform the image\n",
    "        img = transform(img)\n",
    "\n",
    "        # Add a batch dimension\n",
    "        img = img.unsqueeze(0)\n",
    "\n",
    "        # Transfer the image to GPU (if using)\n",
    "        img = img.to(device)\n",
    "\n",
    "        # Forward pass\n",
    "        output = model(img).logits\n",
    "\n",
    "        # Get the predicted class\n",
    "        _, predicted = torch.max(output.data, 1)\n",
    "\n",
    "        i += 1\n",
    "        if (predicted.item()):\n",
    "            # Print the prediction\n",
    "            print(f'Image \\t{image[24:-5]} \\tof {dir} is predicted to be a sclerosed glomerulus')\n",
    "            sclerosed.append(image)\n",
    "\n",
    "print(f\"Total sclerosed: {len(sclerosed)}\")\n",
    "\n",
    "# Save the list of sclerosed images as csv\n",
    "import csv\n",
    "\n",
    "with open(f'./Predictions/{model_name}.csv', 'w', newline='') as file:\n",
    "    writer = csv.writer(file)\n",
    "    # Loop through the list of images\n",
    "    for image in images:\n",
    "        writer.writerow([image, 1 if image in sclerosed else 0])"
   ]
  }
 ],
 "metadata": {
  "kernelspec": {
   "display_name": "RESNET",
   "language": "python",
   "name": "python3"
  },
  "language_info": {
   "codemirror_mode": {
    "name": "ipython",
    "version": 3
   },
   "file_extension": ".py",
   "mimetype": "text/x-python",
   "name": "python",
   "nbconvert_exporter": "python",
   "pygments_lexer": "ipython3",
   "version": "3.10.13"
  }
 },
 "nbformat": 4,
 "nbformat_minor": 2
}
